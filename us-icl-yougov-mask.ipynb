{
 "cells": [
  {
   "cell_type": "markdown",
   "metadata": {},
   "source": [
    "## Survey data of personal behavior with respect to COVID--notebook contains mask specific data\n",
    "\n",
    "- Compiled by Institute of Global Health at the Imperial College of London and YouGov\n",
    "\n",
    "### Terms of use\n",
    "\n",
    "- Data is copyright 2020 YouGov Plc, all rights reserved, is provided to the public strictly for educational and academic research purposes.\n",
    "\n",
    "### Citation\n",
    "\n",
    "- Jones, Sarah P., Imperial College London Big Data Analytical Unit and YouGov Plc. 2020, Imperial College London YouGov Covid Data Hub, v1.0, YouGov Plc, April 2020"
   ]
  },
  {
   "cell_type": "code",
   "execution_count": 1,
   "metadata": {},
   "outputs": [],
   "source": [
    "import pandas as pd\n",
    "import numpy as np\n",
    "import matplotlib.pyplot as plt\n",
    "import warnings\n",
    "warnings.filterwarnings('ignore')"
   ]
  },
  {
   "cell_type": "markdown",
   "metadata": {},
   "source": [
    "### Relevant mask features\n",
    "\n",
    "#### All questions asked 4/2/20 - 9/30/20\n",
    "- endtime, state, qweek\n",
    "- i1_health: About how many people from your household have you come into physical contact with (within 2 meters / 6 feet)?\n",
    "- i2_health: Not including those people in your household, about how many people have you come into physical contact with (within 2 meters / 6 feet)?\n",
    "- i7a_health: How many times did you leave your home yesterday?  If you are not staying at home, how many times did you leave where you are staying yesterday?\n",
    "- i12_health_1: Worn a face mask outside your home (e.g. when on public transport, going to a supermarket, going to a main road)\n",
    "\n",
    "#### Questions below begin 6/24/20--looked at these but they're mostly missing data\n",
    "- m2: On how many days last week did you leave your house?\n",
    "- m3: And on how many of those days did you wear a face mask or covering?\n",
    "- r1_3: Wearing a mask will protect me against coronavirus (COVID-19) (1 disagree, 7 agree)\n",
    "- r1_4: Wearing a mask will protect others against coronavirus (COVID-19) (1 disagree, 7 agree)\n",
    "- m14_6: Masks are not effective in preventing the spread of Covid-19\n",
    "- (Data did not appear in this dataset $m14: Why are you currently not wearing a mask or face covering when you go outside? Please tick all that apply)"
   ]
  },
  {
   "cell_type": "code",
   "execution_count": 17,
   "metadata": {},
   "outputs": [],
   "source": [
    "df = pd.read_csv('covid-19-tracker/data/united-states.csv')"
   ]
  },
  {
   "cell_type": "code",
   "execution_count": 60,
   "metadata": {},
   "outputs": [],
   "source": [
    "dfmask = df[['endtime', 'state', 'qweek', 'i1_health', 'i2_health', 'i7a_health', 'i12_health_1']]"
   ]
  },
  {
   "cell_type": "code",
   "execution_count": 61,
   "metadata": {},
   "outputs": [
    {
     "data": {
      "text/html": [
       "<div>\n",
       "<style scoped>\n",
       "    .dataframe tbody tr th:only-of-type {\n",
       "        vertical-align: middle;\n",
       "    }\n",
       "\n",
       "    .dataframe tbody tr th {\n",
       "        vertical-align: top;\n",
       "    }\n",
       "\n",
       "    .dataframe thead th {\n",
       "        text-align: right;\n",
       "    }\n",
       "</style>\n",
       "<table border=\"1\" class=\"dataframe\">\n",
       "  <thead>\n",
       "    <tr style=\"text-align: right;\">\n",
       "      <th></th>\n",
       "      <th>endtime</th>\n",
       "      <th>state</th>\n",
       "      <th>qweek</th>\n",
       "      <th>i1_health</th>\n",
       "      <th>i2_health</th>\n",
       "      <th>i7a_health</th>\n",
       "      <th>i12_health_1</th>\n",
       "    </tr>\n",
       "  </thead>\n",
       "  <tbody>\n",
       "    <tr>\n",
       "      <th>0</th>\n",
       "      <td>02/04/2020 08:11</td>\n",
       "      <td>California</td>\n",
       "      <td>week 1</td>\n",
       "      <td>5</td>\n",
       "      <td>7</td>\n",
       "      <td>0</td>\n",
       "      <td>Frequently</td>\n",
       "    </tr>\n",
       "  </tbody>\n",
       "</table>\n",
       "</div>"
      ],
      "text/plain": [
       "            endtime       state   qweek  i1_health  i2_health  i7a_health  \\\n",
       "0  02/04/2020 08:11  California  week 1          5          7           0   \n",
       "\n",
       "  i12_health_1  \n",
       "0   Frequently  "
      ]
     },
     "execution_count": 61,
     "metadata": {},
     "output_type": "execute_result"
    }
   ],
   "source": [
    "dfmask.head(1)"
   ]
  },
  {
   "cell_type": "code",
   "execution_count": 62,
   "metadata": {},
   "outputs": [],
   "source": [
    "dfmask['endtime'] = pd.to_datetime(dfmask['endtime'],dayfirst=True)"
   ]
  },
  {
   "cell_type": "code",
   "execution_count": 63,
   "metadata": {},
   "outputs": [
    {
     "data": {
      "text/plain": [
       "0        2020-04-02\n",
       "399      2020-04-02\n",
       "400      2020-04-02\n",
       "401      2020-04-02\n",
       "402      2020-04-02\n",
       "            ...    \n",
       "16977    2020-09-29\n",
       "16978    2020-09-29\n",
       "16979    2020-09-29\n",
       "16980    2020-09-30\n",
       "16981    2020-09-30\n",
       "Name: date, Length: 16982, dtype: object"
      ]
     },
     "execution_count": 63,
     "metadata": {},
     "output_type": "execute_result"
    }
   ],
   "source": [
    "dfmask['date'] = dfmask['endtime'].dt.date\n",
    "dfmask['date'].sort_values()"
   ]
  },
  {
   "cell_type": "code",
   "execution_count": 64,
   "metadata": {},
   "outputs": [],
   "source": [
    "dfmask['month'] = dfmask['endtime'].dt.month"
   ]
  },
  {
   "cell_type": "code",
   "execution_count": 65,
   "metadata": {},
   "outputs": [],
   "source": [
    "state_groupings =  pd.read_csv('data/state_abbrev.csv', thousands=',') # Load in state groupings and merge with mask data\n",
    "dfmask = dfmask.merge(state_groupings, how='inner' ,left_on='state', right_on='State')\n",
    "dfmask['CVD_group'] = dfmask['CVD_group'].apply(lambda x: 'No outbreak' if x == 0 else x)\n",
    "dfmask['CVD_group'] = dfmask['CVD_group'].apply(lambda x: 'Spring outbreak' if x == 1 else x)\n",
    "dfmask['CVD_group'] = dfmask['CVD_group'].apply(lambda x: 'Summer outbreak' if x == 2 else x)\n",
    "dfmask['CVD_group'] = dfmask['CVD_group'].apply(lambda x: 'Fall outbreak' if x == 3 else x)"
   ]
  },
  {
   "cell_type": "code",
   "execution_count": 66,
   "metadata": {},
   "outputs": [],
   "source": [
    "dfmask['i12_health_1'] = (dfmask['i12_health_1']\n",
    "                          .apply(lambda x: 'Always/frequently' if x in ['Always','Frequently'] else x))\n",
    "dfmask['i12_health_1'] = (dfmask['i12_health_1']\n",
    "                          .apply(lambda x: 'Sometimes/rarely/never' if x in ['Sometimes', 'Rarely', 'Not at all'] else x))"
   ]
  },
  {
   "cell_type": "code",
   "execution_count": 67,
   "metadata": {},
   "outputs": [],
   "source": [
    "i12_group_level = (dfmask[['month', 'i12_health_1', 'CVD_group', 'i7a_health']]\n",
    "                   .groupby(['month', 'CVD_group', 'i12_health_1'])\n",
    "                   .count()\n",
    "                   .reset_index()\n",
    "                   .sort_values('month'))\n",
    "i12_group_level = i12_group_level.rename(columns={'i7a_health':'count','i12_health_1':'Self-reported mask usage'})"
   ]
  },
  {
   "cell_type": "code",
   "execution_count": 68,
   "metadata": {},
   "outputs": [],
   "source": [
    "# Sum up the survey counts by month and by group in order to normalize the survey results for graphing\n",
    "i12_month_counts = (i12_group_level\n",
    "                    .groupby(['month', 'CVD_group'])\n",
    "                    .sum()\n",
    "                    .rename(columns={'count':'sub_totals'})\n",
    "                    .reset_index())"
   ]
  },
  {
   "cell_type": "code",
   "execution_count": 70,
   "metadata": {},
   "outputs": [],
   "source": [
    "i12_group_level = i12_group_level.merge(i12_month_counts, on=['month','CVD_group'])\n",
    "i12_group_level['Percent'] = i12_group_level['count'] / i12_group_level['sub_totals'] * 100"
   ]
  },
  {
   "cell_type": "code",
   "execution_count": 82,
   "metadata": {},
   "outputs": [],
   "source": [
    "import plotly.express as px\n",
    "\n",
    "group_name = 'Spring outbreak'\n",
    "i12_one_group = i12_group_level[i12_group_level['CVD_group'] == group_name]\n",
    "\n",
    "fig = px.bar(i12_one_group, x=\"month\", y=\"Percent\", color=\"Self-reported mask usage\", title = f'Public mask usage for {group_name} group')\n",
    "# fig.write_image(\"img/mask.png\")\n",
    "fig.write_html('img/mask.html', auto_open=True)"
   ]
  },
  {
   "cell_type": "code",
   "execution_count": 147,
   "metadata": {},
   "outputs": [
    {
     "data": {
      "image/png": "[encoded data removed]",
      "text/plain": [
       "<Figure size 1152x720 with 4 Axes>"
      ]
     },
     "metadata": {
      "needs_background": "light"
     },
     "output_type": "display_data"
    }
   ],
   "source": [
    "# Pivot table is required for converting the datatable from long format to wide format. Wide format makes the stacked bar much easier.\n",
    "fig, ax = plt.subplots(2, 2, figsize = (16,10))\n",
    "colors = ['tab:blue', '#f9bc86']\n",
    "i = 0\n",
    "for group in i12_group_level['CVD_group'].unique():\n",
    "    i12_pivot = (i12_group_level[i12_group_level['CVD_group'] == group]\n",
    "     .pivot(index = 'month', columns = 'Self-reported mask usage', values = 'Percent'))\n",
    "    i12_pivot.loc[:,['Always/frequently','Sometimes/rarely/never']].plot.bar(stacked=True, ax=ax[i//2][i%2], color=colors)\n",
    "    ax[i//2][i%2].set_title(f'Public mask usage for {group} group')\n",
    "    i += 1"
   ]
  },
  {
   "cell_type": "code",
   "execution_count": null,
   "metadata": {},
   "outputs": [],
   "source": []
  },
  {
   "cell_type": "markdown",
   "metadata": {},
   "source": [
    "### Miscellaneous results: by week, by state, etc"
   ]
  },
  {
   "cell_type": "code",
   "execution_count": 66,
   "metadata": {},
   "outputs": [],
   "source": [
    "dfmask['date'] = pd.to_datetime(dfmask['date'] - pd.to_timedelta(7, unit='d'))"
   ]
  },
  {
   "cell_type": "code",
   "execution_count": 75,
   "metadata": {},
   "outputs": [
    {
     "data": {
      "text/html": [
       "<div>\n",
       "<style scoped>\n",
       "    .dataframe tbody tr th:only-of-type {\n",
       "        vertical-align: middle;\n",
       "    }\n",
       "\n",
       "    .dataframe tbody tr th {\n",
       "        vertical-align: top;\n",
       "    }\n",
       "\n",
       "    .dataframe thead th {\n",
       "        text-align: right;\n",
       "    }\n",
       "</style>\n",
       "<table border=\"1\" class=\"dataframe\">\n",
       "  <thead>\n",
       "    <tr style=\"text-align: right;\">\n",
       "      <th></th>\n",
       "      <th>date</th>\n",
       "      <th>i12_health_1</th>\n",
       "      <th>endtime</th>\n",
       "      <th>state</th>\n",
       "      <th>qweek</th>\n",
       "      <th>ct</th>\n",
       "      <th>i2_health</th>\n",
       "      <th>i7a_health</th>\n",
       "      <th>m2</th>\n",
       "      <th>m3</th>\n",
       "      <th>r1_3</th>\n",
       "      <th>r1_4</th>\n",
       "      <th>m14_6</th>\n",
       "      <th>month</th>\n",
       "    </tr>\n",
       "  </thead>\n",
       "  <tbody>\n",
       "    <tr>\n",
       "      <th>0</th>\n",
       "      <td>2020-03-30</td>\n",
       "      <td>Always</td>\n",
       "      <td>374</td>\n",
       "      <td>374</td>\n",
       "      <td>374</td>\n",
       "      <td>374</td>\n",
       "      <td>374</td>\n",
       "      <td>374</td>\n",
       "      <td>374</td>\n",
       "      <td>374</td>\n",
       "      <td>374</td>\n",
       "      <td>374</td>\n",
       "      <td>374</td>\n",
       "      <td>374</td>\n",
       "    </tr>\n",
       "  </tbody>\n",
       "</table>\n",
       "</div>"
      ],
      "text/plain": [
       "        date i12_health_1  endtime  state  qweek   ct  i2_health  i7a_health  \\\n",
       "0 2020-03-30       Always      374    374    374  374        374         374   \n",
       "\n",
       "    m2   m3  r1_3  r1_4  m14_6  month  \n",
       "0  374  374   374   374    374    374  "
      ]
     },
     "execution_count": 75,
     "metadata": {},
     "output_type": "execute_result"
    }
   ],
   "source": [
    "i12_week = dfmask.groupby([pd.Grouper(key='date', freq='W-MON'),'i12_health_1']).count().rename(columns={'i1_health':'ct'}).reset_index().sort_values('date')\n",
    "i12_week.head(1)"
   ]
  },
  {
   "cell_type": "code",
   "execution_count": 76,
   "metadata": {},
   "outputs": [
    {
     "data": {
      "image/png": "[encoded data removed]",
      "text/plain": [
       "<Figure size 1080x360 with 1 Axes>"
      ]
     },
     "metadata": {
      "needs_background": "light"
     },
     "output_type": "display_data"
    }
   ],
   "source": [
    "fig, ax = plt.subplots(figsize = (15,5))\n",
    "colors = ['tab:blue', 'tab:gray', 'tab:olive', 'tab:cyan', 'tab:pink']\n",
    "i = 0\n",
    "for key, data in i12_week.groupby('i12_health_1'):\n",
    "    data.plot.bar(x='month', y='ct', ax=ax, label=key,color = colors[i], stacked=False)\n",
    "    i += 1\n"
   ]
  },
  {
   "cell_type": "code",
   "execution_count": null,
   "metadata": {},
   "outputs": [],
   "source": []
  },
  {
   "cell_type": "code",
   "execution_count": 96,
   "metadata": {},
   "outputs": [],
   "source": [
    "state_group = dfmask[dfmask['CVD_group'] == 0]"
   ]
  },
  {
   "cell_type": "code",
   "execution_count": 100,
   "metadata": {},
   "outputs": [
    {
     "name": "stdout",
     "output_type": "stream",
     "text": [
      "7663\n",
      "    month i12_health_1  endtime  state  qweek   ct  i2_health  i7a_health  \\\n",
      "0       4       Always      715    715    715  715        715         715   \n",
      "5       5       Always      842    842    842  842        842         842   \n",
      "10      6       Always      462    462    462  462        462         462   \n",
      "15      7       Always      629    629    629  629        629         629   \n",
      "20      8       Always      693    693    693  693        693         693   \n",
      "25      9       Always      605    605    605  605        605         605   \n",
      "\n",
      "     m2   m3  ...  Population_x  CVD_group_x  State_y  Code_y  Population_y  \\\n",
      "0   715  715  ...           715          715      715     715           715   \n",
      "5   842  842  ...           842          842      842     842           842   \n",
      "10  462  462  ...           462          462      462     462           462   \n",
      "15  629  629  ...           629          629      629     629           629   \n",
      "20  693  693  ...           693          693      693     693           693   \n",
      "25  605  605  ...           605          605      605     605           605   \n",
      "\n",
      "    CVD_group_y  State  Code  Population  CVD_group  \n",
      "0           715    715   715         715        715  \n",
      "5           842    842   842         842        842  \n",
      "10          462    462   462         462        462  \n",
      "15          629    629   629         629        629  \n",
      "20          693    693   693         693        693  \n",
      "25          605    605   605         605        605  \n",
      "\n",
      "[6 rows x 26 columns]\n",
      "    month i12_health_1  endtime  state  qweek   ct  i2_health  i7a_health  \\\n",
      "1       4   Frequently      279    279    279  279        279         279   \n",
      "6       5   Frequently      288    288    288  288        288         288   \n",
      "11      6   Frequently      141    141    141  141        141         141   \n",
      "16      7   Frequently      108    108    108  108        108         108   \n",
      "21      8   Frequently      134    134    134  134        134         134   \n",
      "26      9   Frequently       85     85     85   85         85          85   \n",
      "\n",
      "     m2   m3  ...  Population_x  CVD_group_x  State_y  Code_y  Population_y  \\\n",
      "1   279  279  ...           279          279      279     279           279   \n",
      "6   288  288  ...           288          288      288     288           288   \n",
      "11  141  141  ...           141          141      141     141           141   \n",
      "16  108  108  ...           108          108      108     108           108   \n",
      "21  134  134  ...           134          134      134     134           134   \n",
      "26   85   85  ...            85           85       85      85            85   \n",
      "\n",
      "    CVD_group_y  State  Code  Population  CVD_group  \n",
      "1           279    279   279         279        279  \n",
      "6           288    288   288         288        288  \n",
      "11          141    141   141         141        141  \n",
      "16          108    108   108         108        108  \n",
      "21          134    134   134         134        134  \n",
      "26           85     85    85          85         85  \n",
      "\n",
      "[6 rows x 26 columns]\n",
      "    month i12_health_1  endtime  state  qweek   ct  i2_health  i7a_health  \\\n",
      "2       4   Not at all      961    961    961  961        961         961   \n",
      "7       5   Not at all      247    247    247  247        247         247   \n",
      "12      6   Not at all      131    131    131  131        131         131   \n",
      "17      7   Not at all       99     99     99   99         99          99   \n",
      "22      8   Not at all       77     77     77   77         77          77   \n",
      "27      9   Not at all       75     75     75   75         75          75   \n",
      "\n",
      "     m2   m3  ...  Population_x  CVD_group_x  State_y  Code_y  Population_y  \\\n",
      "2   961  961  ...           961          961      961     961           961   \n",
      "7   247  247  ...           247          247      247     247           247   \n",
      "12  131  131  ...           131          131      131     131           131   \n",
      "17   99   99  ...            99           99       99      99            99   \n",
      "22   77   77  ...            77           77       77      77            77   \n",
      "27   75   75  ...            75           75       75      75            75   \n",
      "\n",
      "    CVD_group_y  State  Code  Population  CVD_group  \n",
      "2           961    961   961         961        961  \n",
      "7           247    247   247         247        247  \n",
      "12          131    131   131         131        131  \n",
      "17           99     99    99          99         99  \n",
      "22           77     77    77          77         77  \n",
      "27           75     75    75          75         75  \n",
      "\n",
      "[6 rows x 26 columns]\n",
      "    month i12_health_1  endtime  state  qweek   ct  i2_health  i7a_health  \\\n",
      "3       4       Rarely      180    180    180  180        180         180   \n",
      "8       5       Rarely      106    106    106  106        106         106   \n",
      "13      6       Rarely       50     50     50   50         50          50   \n",
      "18      7       Rarely       51     51     51   51         51          51   \n",
      "23      8       Rarely       26     26     26   26         26          26   \n",
      "28      9       Rarely       35     35     35   35         35          35   \n",
      "\n",
      "     m2   m3  ...  Population_x  CVD_group_x  State_y  Code_y  Population_y  \\\n",
      "3   180  180  ...           180          180      180     180           180   \n",
      "8   106  106  ...           106          106      106     106           106   \n",
      "13   50   50  ...            50           50       50      50            50   \n",
      "18   51   51  ...            51           51       51      51            51   \n",
      "23   26   26  ...            26           26       26      26            26   \n",
      "28   35   35  ...            35           35       35      35            35   \n",
      "\n",
      "    CVD_group_y  State  Code  Population  CVD_group  \n",
      "3           180    180   180         180        180  \n",
      "8           106    106   106         106        106  \n",
      "13           50     50    50          50         50  \n",
      "18           51     51    51          51         51  \n",
      "23           26     26    26          26         26  \n",
      "28           35     35    35          35         35  \n",
      "\n",
      "[6 rows x 26 columns]\n",
      "    month i12_health_1  endtime  state  qweek   ct  i2_health  i7a_health  \\\n",
      "4       4    Sometimes      224    224    224  224        224         224   \n",
      "9       5    Sometimes      156    156    156  156        156         156   \n",
      "14      6    Sometimes       85     85     85   85         85          85   \n",
      "19      7    Sometimes       76     76     76   76         76          76   \n",
      "24      8    Sometimes       57     57     57   57         57          57   \n",
      "29      9    Sometimes       46     46     46   46         46          46   \n",
      "\n",
      "     m2   m3  ...  Population_x  CVD_group_x  State_y  Code_y  Population_y  \\\n",
      "4   224  224  ...           224          224      224     224           224   \n",
      "9   156  156  ...           156          156      156     156           156   \n",
      "14   85   85  ...            85           85       85      85            85   \n",
      "19   76   76  ...            76           76       76      76            76   \n",
      "24   57   57  ...            57           57       57      57            57   \n",
      "29   46   46  ...            46           46       46      46            46   \n",
      "\n",
      "    CVD_group_y  State  Code  Population  CVD_group  \n",
      "4           224    224   224         224        224  \n",
      "9           156    156   156         156        156  \n",
      "14           85     85    85          85         85  \n",
      "19           76     76    76          76         76  \n",
      "24           57     57    57          57         57  \n",
      "29           46     46    46          46         46  \n",
      "\n",
      "[6 rows x 26 columns]\n"
     ]
    },
    {
     "data": {
      "image/png": "[encoded data removed]",
      "text/plain": [
       "<Figure size 1080x360 with 1 Axes>"
      ]
     },
     "metadata": {
      "needs_background": "light"
     },
     "output_type": "display_data"
    }
   ],
   "source": [
    "i12_group_month = state_group.groupby(['month','i12_health_1']).count().rename(columns={'i1_health':'ct'}).reset_index().sort_values('month')\n",
    "\n",
    "fig, ax = plt.subplots(figsize = (15,5))\n",
    "# colors = ['#00BFFF', '#C1FFC1','#FF9999', '#CAE1FF', '#FFDEAD']\n",
    "colors = ['tab:blue', 'tab:gray', 'tab:olive', 'tab:cyan', 'tab:pink']\n",
    "ttl_obs = i12_group_month['ct'].sum()\n",
    "print(ttl_obs)\n",
    "i = 0\n",
    "for key, data in i12_group_month.groupby('i12_health_1'):\n",
    "    print(data)\n",
    "    data.plot.bar(x='month', y='ct', ax=ax, label=key,color = colors[i], stacked=False)\n",
    "    i += 1"
   ]
  },
  {
   "cell_type": "code",
   "execution_count": null,
   "metadata": {},
   "outputs": [],
   "source": []
  },
  {
   "cell_type": "code",
   "execution_count": null,
   "metadata": {},
   "outputs": [],
   "source": []
  }
 ],
 "metadata": {
  "kernelspec": {
   "display_name": "Python 3",
   "language": "python",
   "name": "python3"
  },
  "language_info": {
   "codemirror_mode": {
    "name": "ipython",
    "version": 3
   },
   "file_extension": ".py",
   "mimetype": "text/x-python",
   "name": "python",
   "nbconvert_exporter": "python",
   "pygments_lexer": "ipython3",
   "version": "3.7.7"
  }
 },
 "nbformat": 4,
 "nbformat_minor": 4
}
