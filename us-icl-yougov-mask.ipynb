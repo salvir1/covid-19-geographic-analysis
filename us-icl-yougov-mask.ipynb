{
 "cells": [
  {
   "cell_type": "markdown",
   "metadata": {},
   "source": [
    "## Survey data of personal behavior with respect to COVID--notebook contains mask specific data\n",
    "\n",
    "- Compiled by Institute of Global Health at the Imperial College of London and YouGov\n",
    "\n",
    "### Terms of use\n",
    "\n",
    "- Data is copyright 2020 YouGov Plc, all rights reserved, is provided to the public strictly for educational and academic research purposes.\n",
    "\n",
    "### Citation\n",
    "\n",
    "- Jones, Sarah P., Imperial College London Big Data Analytical Unit and YouGov Plc. 2020, Imperial College London YouGov Covid Data Hub, v1.0, YouGov Plc, April 2020"
   ]
  },
  {
   "cell_type": "code",
   "execution_count": 1,
   "metadata": {},
   "outputs": [],
   "source": [
    "import pandas as pd\n",
    "import numpy as np\n",
    "import matplotlib.pyplot as plt"
   ]
  },
  {
   "cell_type": "markdown",
   "metadata": {},
   "source": [
    "### Relevant mask features\n",
    "\n",
    "#### All questions asked 4/2/20 - 9/30/20\n",
    "- endtime, state, qweek\n",
    "- i1_health: About how many people from your household have you come into physical contact with (within 2 meters / 6 feet)?\n",
    "- i2_health: Not including those people in your household, about how many people have you come into physical contact with (within 2 meters / 6 feet)?\n",
    "- i7a_health: How many times did you leave your home yesterday?  If you are not staying at home, how many times did you leave where you are staying yesterday?\n",
    "- i12_health_1: Worn a face mask outside your home (e.g. when on public transport, going to a supermarket, going to a main road)\n",
    "\n",
    "#### Questions below begin 6/24/20--looked at these but they're mostly missing data\n",
    "- m2: On how many days last week did you leave your house?\n",
    "- m3: And on how many of those days did you wear a face mask or covering?\n",
    "- r1_3: Wearing a mask will protect me against coronavirus (COVID-19) (1 disagree, 7 agree)\n",
    "- r1_4: Wearing a mask will protect others against coronavirus (COVID-19) (1 disagree, 7 agree)\n",
    "- m14_6: Masks are not effective in preventing the spread of Covid-19\n",
    "- (Data did not appear in this dataset $m14: Why are you currently not wearing a mask or face covering when you go outside? Please tick all that apply)"
   ]
  },
  {
   "cell_type": "code",
   "execution_count": 2,
   "metadata": {},
   "outputs": [
    {
     "name": "stderr",
     "output_type": "stream",
     "text": [
      "/home/salvir1/anaconda3/lib/python3.7/site-packages/IPython/core/interactiveshell.py:3146: DtypeWarning: Columns (81,90) have mixed types.Specify dtype option on import or set low_memory=False.\n",
      "  interactivity=interactivity, compiler=compiler, result=result)\n"
     ]
    }
   ],
   "source": [
    "df = pd.read_csv('covid-19-tracker/data/united-states.csv')"
   ]
  },
  {
   "cell_type": "code",
   "execution_count": 3,
   "metadata": {},
   "outputs": [],
   "source": [
    "dfmask = df[['endtime', 'state', 'qweek', 'i1_health', 'i2_health', 'i7a_health', 'i12_health_1', 'm2', 'm3', 'r1_3', 'r1_4', 'm14_6']]"
   ]
  },
  {
   "cell_type": "code",
   "execution_count": 4,
   "metadata": {},
   "outputs": [
    {
     "data": {
      "text/html": [
       "<div>\n",
       "<style scoped>\n",
       "    .dataframe tbody tr th:only-of-type {\n",
       "        vertical-align: middle;\n",
       "    }\n",
       "\n",
       "    .dataframe tbody tr th {\n",
       "        vertical-align: top;\n",
       "    }\n",
       "\n",
       "    .dataframe thead th {\n",
       "        text-align: right;\n",
       "    }\n",
       "</style>\n",
       "<table border=\"1\" class=\"dataframe\">\n",
       "  <thead>\n",
       "    <tr style=\"text-align: right;\">\n",
       "      <th></th>\n",
       "      <th>endtime</th>\n",
       "      <th>state</th>\n",
       "      <th>qweek</th>\n",
       "      <th>i1_health</th>\n",
       "      <th>i2_health</th>\n",
       "      <th>i7a_health</th>\n",
       "      <th>i12_health_1</th>\n",
       "      <th>m2</th>\n",
       "      <th>m3</th>\n",
       "      <th>r1_3</th>\n",
       "      <th>r1_4</th>\n",
       "      <th>m14_6</th>\n",
       "    </tr>\n",
       "  </thead>\n",
       "  <tbody>\n",
       "    <tr>\n",
       "      <th>0</th>\n",
       "      <td>02/04/2020 08:11</td>\n",
       "      <td>California</td>\n",
       "      <td>week 1</td>\n",
       "      <td>5</td>\n",
       "      <td>7</td>\n",
       "      <td>0</td>\n",
       "      <td>Frequently</td>\n",
       "      <td></td>\n",
       "      <td></td>\n",
       "      <td></td>\n",
       "      <td></td>\n",
       "      <td></td>\n",
       "    </tr>\n",
       "    <tr>\n",
       "      <th>1</th>\n",
       "      <td>02/04/2020 08:12</td>\n",
       "      <td>Pennsylvania</td>\n",
       "      <td>week 1</td>\n",
       "      <td>3</td>\n",
       "      <td>4</td>\n",
       "      <td>0</td>\n",
       "      <td>Rarely</td>\n",
       "      <td></td>\n",
       "      <td></td>\n",
       "      <td></td>\n",
       "      <td></td>\n",
       "      <td></td>\n",
       "    </tr>\n",
       "    <tr>\n",
       "      <th>2</th>\n",
       "      <td>02/04/2020 08:15</td>\n",
       "      <td>Florida</td>\n",
       "      <td>week 1</td>\n",
       "      <td>1</td>\n",
       "      <td>12</td>\n",
       "      <td>0</td>\n",
       "      <td>Not at all</td>\n",
       "      <td></td>\n",
       "      <td></td>\n",
       "      <td></td>\n",
       "      <td></td>\n",
       "      <td></td>\n",
       "    </tr>\n",
       "    <tr>\n",
       "      <th>3</th>\n",
       "      <td>02/04/2020 08:15</td>\n",
       "      <td>California</td>\n",
       "      <td>week 1</td>\n",
       "      <td>5</td>\n",
       "      <td>8</td>\n",
       "      <td>1</td>\n",
       "      <td>Not at all</td>\n",
       "      <td></td>\n",
       "      <td></td>\n",
       "      <td></td>\n",
       "      <td></td>\n",
       "      <td></td>\n",
       "    </tr>\n",
       "    <tr>\n",
       "      <th>4</th>\n",
       "      <td>02/04/2020 08:15</td>\n",
       "      <td>Florida</td>\n",
       "      <td>week 1</td>\n",
       "      <td>1</td>\n",
       "      <td>1</td>\n",
       "      <td>0</td>\n",
       "      <td>Always</td>\n",
       "      <td></td>\n",
       "      <td></td>\n",
       "      <td></td>\n",
       "      <td></td>\n",
       "      <td></td>\n",
       "    </tr>\n",
       "  </tbody>\n",
       "</table>\n",
       "</div>"
      ],
      "text/plain": [
       "            endtime         state   qweek  i1_health  i2_health  i7a_health  \\\n",
       "0  02/04/2020 08:11    California  week 1          5          7           0   \n",
       "1  02/04/2020 08:12  Pennsylvania  week 1          3          4           0   \n",
       "2  02/04/2020 08:15       Florida  week 1          1         12           0   \n",
       "3  02/04/2020 08:15    California  week 1          5          8           1   \n",
       "4  02/04/2020 08:15       Florida  week 1          1          1           0   \n",
       "\n",
       "  i12_health_1 m2 m3 r1_3 r1_4 m14_6  \n",
       "0   Frequently                        \n",
       "1       Rarely                        \n",
       "2   Not at all                        \n",
       "3   Not at all                        \n",
       "4       Always                        "
      ]
     },
     "execution_count": 4,
     "metadata": {},
     "output_type": "execute_result"
    }
   ],
   "source": [
    "dfmask.head()"
   ]
  },
  {
   "cell_type": "code",
   "execution_count": 5,
   "metadata": {},
   "outputs": [
    {
     "data": {
      "text/plain": [
       "<matplotlib.axes._subplots.AxesSubplot at 0x7f0ff9206750>"
      ]
     },
     "execution_count": 5,
     "metadata": {},
     "output_type": "execute_result"
    },
    {
     "data": {
      "image/png": "[encoded data removed]",
      "text/plain": [
       "<Figure size 432x288 with 1 Axes>"
      ]
     },
     "metadata": {
      "needs_background": "light"
     },
     "output_type": "display_data"
    }
   ],
   "source": [
    "dfmask['m14_6'].hist()"
   ]
  },
  {
   "cell_type": "code",
   "execution_count": 6,
   "metadata": {},
   "outputs": [
    {
     "data": {
      "text/plain": [
       "<matplotlib.axes._subplots.AxesSubplot at 0x7f0ff89af210>"
      ]
     },
     "execution_count": 6,
     "metadata": {},
     "output_type": "execute_result"
    },
    {
     "data": {
      "image/png": "[encoded data removed]",
      "text/plain": [
       "<Figure size 432x288 with 1 Axes>"
      ]
     },
     "metadata": {
      "needs_background": "light"
     },
     "output_type": "display_data"
    }
   ],
   "source": [
    "dfmask['m3'].hist()"
   ]
  },
  {
   "cell_type": "code",
   "execution_count": 7,
   "metadata": {},
   "outputs": [
    {
     "name": "stderr",
     "output_type": "stream",
     "text": [
      "/home/salvir1/anaconda3/lib/python3.7/site-packages/ipykernel_launcher.py:1: SettingWithCopyWarning: \n",
      "A value is trying to be set on a copy of a slice from a DataFrame.\n",
      "Try using .loc[row_indexer,col_indexer] = value instead\n",
      "\n",
      "See the caveats in the documentation: https://pandas.pydata.org/pandas-docs/stable/user_guide/indexing.html#returning-a-view-versus-a-copy\n",
      "  \"\"\"Entry point for launching an IPython kernel.\n"
     ]
    }
   ],
   "source": [
    "dfmask['endtime'] = pd.to_datetime(dfmask['endtime'],dayfirst=True)"
   ]
  },
  {
   "cell_type": "code",
   "execution_count": 8,
   "metadata": {},
   "outputs": [
    {
     "name": "stderr",
     "output_type": "stream",
     "text": [
      "/home/salvir1/anaconda3/lib/python3.7/site-packages/ipykernel_launcher.py:1: SettingWithCopyWarning: \n",
      "A value is trying to be set on a copy of a slice from a DataFrame.\n",
      "Try using .loc[row_indexer,col_indexer] = value instead\n",
      "\n",
      "See the caveats in the documentation: https://pandas.pydata.org/pandas-docs/stable/user_guide/indexing.html#returning-a-view-versus-a-copy\n",
      "  \"\"\"Entry point for launching an IPython kernel.\n"
     ]
    },
    {
     "data": {
      "text/plain": [
       "0        2020-04-02\n",
       "399      2020-04-02\n",
       "400      2020-04-02\n",
       "401      2020-04-02\n",
       "402      2020-04-02\n",
       "            ...    \n",
       "16977    2020-09-29\n",
       "16978    2020-09-29\n",
       "16979    2020-09-29\n",
       "16980    2020-09-30\n",
       "16981    2020-09-30\n",
       "Name: date, Length: 16982, dtype: object"
      ]
     },
     "execution_count": 8,
     "metadata": {},
     "output_type": "execute_result"
    }
   ],
   "source": [
    "dfmask['date'] = dfmask['endtime'].dt.date\n",
    "dfmask['date'].sort_values()"
   ]
  },
  {
   "cell_type": "code",
   "execution_count": 9,
   "metadata": {},
   "outputs": [
    {
     "name": "stderr",
     "output_type": "stream",
     "text": [
      "/home/salvir1/anaconda3/lib/python3.7/site-packages/ipykernel_launcher.py:1: SettingWithCopyWarning: \n",
      "A value is trying to be set on a copy of a slice from a DataFrame.\n",
      "Try using .loc[row_indexer,col_indexer] = value instead\n",
      "\n",
      "See the caveats in the documentation: https://pandas.pydata.org/pandas-docs/stable/user_guide/indexing.html#returning-a-view-versus-a-copy\n",
      "  \"\"\"Entry point for launching an IPython kernel.\n"
     ]
    }
   ],
   "source": [
    "dfmask['month'] = dfmask['endtime'].dt.month"
   ]
  },
  {
   "cell_type": "code",
   "execution_count": 10,
   "metadata": {},
   "outputs": [
    {
     "name": "stderr",
     "output_type": "stream",
     "text": [
      "/home/salvir1/anaconda3/lib/python3.7/site-packages/pandas/core/series.py:4569: SettingWithCopyWarning: \n",
      "A value is trying to be set on a copy of a slice from a DataFrame\n",
      "\n",
      "See the caveats in the documentation: https://pandas.pydata.org/pandas-docs/stable/user_guide/indexing.html#returning-a-view-versus-a-copy\n",
      "  method=method,\n"
     ]
    }
   ],
   "source": [
    "dfmask['r1_3'].replace(['7 - Agree', '1 – Disagree'], ['7','1'], inplace=True)\n",
    "dfmask['r1_4'].replace(['7 - Agree', '1 – Disagree'], ['7','1'], inplace=True)"
   ]
  },
  {
   "cell_type": "code",
   "execution_count": 11,
   "metadata": {},
   "outputs": [
    {
     "name": "stderr",
     "output_type": "stream",
     "text": [
      "/home/salvir1/anaconda3/lib/python3.7/site-packages/ipykernel_launcher.py:1: SettingWithCopyWarning: \n",
      "A value is trying to be set on a copy of a slice from a DataFrame.\n",
      "Try using .loc[row_indexer,col_indexer] = value instead\n",
      "\n",
      "See the caveats in the documentation: https://pandas.pydata.org/pandas-docs/stable/user_guide/indexing.html#returning-a-view-versus-a-copy\n",
      "  \"\"\"Entry point for launching an IPython kernel.\n"
     ]
    }
   ],
   "source": [
    "dfmask['date'] = pd.to_datetime(dfmask['date'] - pd.to_timedelta(7, unit='d'))"
   ]
  },
  {
   "cell_type": "code",
   "execution_count": 12,
   "metadata": {},
   "outputs": [
    {
     "data": {
      "text/html": [
       "<div>\n",
       "<style scoped>\n",
       "    .dataframe tbody tr th:only-of-type {\n",
       "        vertical-align: middle;\n",
       "    }\n",
       "\n",
       "    .dataframe tbody tr th {\n",
       "        vertical-align: top;\n",
       "    }\n",
       "\n",
       "    .dataframe thead th {\n",
       "        text-align: right;\n",
       "    }\n",
       "</style>\n",
       "<table border=\"1\" class=\"dataframe\">\n",
       "  <thead>\n",
       "    <tr style=\"text-align: right;\">\n",
       "      <th></th>\n",
       "      <th>month</th>\n",
       "      <th>i12_health_1</th>\n",
       "      <th>endtime</th>\n",
       "      <th>state</th>\n",
       "      <th>qweek</th>\n",
       "      <th>ct</th>\n",
       "      <th>i2_health</th>\n",
       "      <th>i7a_health</th>\n",
       "      <th>m2</th>\n",
       "      <th>m3</th>\n",
       "      <th>r1_3</th>\n",
       "      <th>r1_4</th>\n",
       "      <th>m14_6</th>\n",
       "      <th>date</th>\n",
       "    </tr>\n",
       "  </thead>\n",
       "  <tbody>\n",
       "    <tr>\n",
       "      <th>0</th>\n",
       "      <td>4</td>\n",
       "      <td>Always</td>\n",
       "      <td>1649</td>\n",
       "      <td>1649</td>\n",
       "      <td>1649</td>\n",
       "      <td>1649</td>\n",
       "      <td>1649</td>\n",
       "      <td>1649</td>\n",
       "      <td>1649</td>\n",
       "      <td>1649</td>\n",
       "      <td>1649</td>\n",
       "      <td>1649</td>\n",
       "      <td>1649</td>\n",
       "      <td>1649</td>\n",
       "    </tr>\n",
       "  </tbody>\n",
       "</table>\n",
       "</div>"
      ],
      "text/plain": [
       "   month i12_health_1  endtime  state  qweek    ct  i2_health  i7a_health  \\\n",
       "0      4       Always     1649   1649   1649  1649       1649        1649   \n",
       "\n",
       "     m2    m3  r1_3  r1_4  m14_6  date  \n",
       "0  1649  1649  1649  1649   1649  1649  "
      ]
     },
     "execution_count": 12,
     "metadata": {},
     "output_type": "execute_result"
    }
   ],
   "source": [
    "i12_month = dfmask.groupby(['month','i12_health_1']).count().rename(columns={'i1_health':'ct'}).reset_index().sort_values('month')\n",
    "i12_month.head(1)"
   ]
  },
  {
   "cell_type": "code",
   "execution_count": 16,
   "metadata": {},
   "outputs": [],
   "source": [
    "import plotly.express as px\n",
    "\n",
    "fig = px.bar(i12_month, x=\"month\", y=\"ct\", color=\"i12_health_1\", title=\"Long-Form Input\")\n",
    "# fig.write_image(\"img/mask.png\")\n",
    "fig.write_html('img/mask.html', auto_open=True)"
   ]
  },
  {
   "cell_type": "code",
   "execution_count": 14,
   "metadata": {},
   "outputs": [
    {
     "data": {
      "image/png": "[encoded data removed]",
      "text/plain": [
       "<Figure size 1080x360 with 1 Axes>"
      ]
     },
     "metadata": {
      "needs_background": "light"
     },
     "output_type": "display_data"
    }
   ],
   "source": [
    "fig, ax = plt.subplots(figsize = (15,5))\n",
    "colors = ['tab:blue', 'tab:gray', 'tab:olive', 'tab:cyan', 'tab:pink']\n",
    "i = 0\n",
    "for key, data in i12_month.groupby('i12_health_1'):\n",
    "    data.plot.bar(x='month', y='ct', ax=ax, label=key,color = colors[i], stacked=False)\n",
    "    i += 1\n"
   ]
  },
  {
   "cell_type": "code",
   "execution_count": 75,
   "metadata": {},
   "outputs": [
    {
     "data": {
      "text/html": [
       "<div>\n",
       "<style scoped>\n",
       "    .dataframe tbody tr th:only-of-type {\n",
       "        vertical-align: middle;\n",
       "    }\n",
       "\n",
       "    .dataframe tbody tr th {\n",
       "        vertical-align: top;\n",
       "    }\n",
       "\n",
       "    .dataframe thead th {\n",
       "        text-align: right;\n",
       "    }\n",
       "</style>\n",
       "<table border=\"1\" class=\"dataframe\">\n",
       "  <thead>\n",
       "    <tr style=\"text-align: right;\">\n",
       "      <th></th>\n",
       "      <th>date</th>\n",
       "      <th>i12_health_1</th>\n",
       "      <th>endtime</th>\n",
       "      <th>state</th>\n",
       "      <th>qweek</th>\n",
       "      <th>ct</th>\n",
       "      <th>i2_health</th>\n",
       "      <th>i7a_health</th>\n",
       "      <th>m2</th>\n",
       "      <th>m3</th>\n",
       "      <th>r1_3</th>\n",
       "      <th>r1_4</th>\n",
       "      <th>m14_6</th>\n",
       "      <th>month</th>\n",
       "    </tr>\n",
       "  </thead>\n",
       "  <tbody>\n",
       "    <tr>\n",
       "      <th>0</th>\n",
       "      <td>2020-03-30</td>\n",
       "      <td>Always</td>\n",
       "      <td>374</td>\n",
       "      <td>374</td>\n",
       "      <td>374</td>\n",
       "      <td>374</td>\n",
       "      <td>374</td>\n",
       "      <td>374</td>\n",
       "      <td>374</td>\n",
       "      <td>374</td>\n",
       "      <td>374</td>\n",
       "      <td>374</td>\n",
       "      <td>374</td>\n",
       "      <td>374</td>\n",
       "    </tr>\n",
       "  </tbody>\n",
       "</table>\n",
       "</div>"
      ],
      "text/plain": [
       "        date i12_health_1  endtime  state  qweek   ct  i2_health  i7a_health  \\\n",
       "0 2020-03-30       Always      374    374    374  374        374         374   \n",
       "\n",
       "    m2   m3  r1_3  r1_4  m14_6  month  \n",
       "0  374  374   374   374    374    374  "
      ]
     },
     "execution_count": 75,
     "metadata": {},
     "output_type": "execute_result"
    }
   ],
   "source": [
    "i12_week = dfmask.groupby([pd.Grouper(key='date', freq='W-MON'),'i12_health_1']).count().rename(columns={'i1_health':'ct'}).reset_index().sort_values('date')\n",
    "i12_week.head(1)"
   ]
  },
  {
   "cell_type": "code",
   "execution_count": 76,
   "metadata": {},
   "outputs": [
    {
     "data": {
      "image/png": "[encoded data removed]",
      "text/plain": [
       "<Figure size 1080x360 with 1 Axes>"
      ]
     },
     "metadata": {
      "needs_background": "light"
     },
     "output_type": "display_data"
    }
   ],
   "source": [
    "fig, ax = plt.subplots(figsize = (15,5))\n",
    "colors = ['tab:blue', 'tab:gray', 'tab:olive', 'tab:cyan', 'tab:pink']\n",
    "i = 0\n",
    "for key, data in i12_week.groupby('i12_health_1'):\n",
    "    data.plot.bar(x='month', y='ct', ax=ax, label=key,color = colors[i], stacked=False)\n",
    "    i += 1\n"
   ]
  },
  {
   "cell_type": "code",
   "execution_count": 95,
   "metadata": {},
   "outputs": [],
   "source": [
    "st_population =  pd.read_csv('data/state_abbrev.csv', thousands=',') # Load in state population counts and merge with mask data\n",
    "dfmask = dfmask.merge(st_population, how='inner' ,left_on='state', right_on='State')"
   ]
  },
  {
   "cell_type": "code",
   "execution_count": null,
   "metadata": {},
   "outputs": [],
   "source": []
  },
  {
   "cell_type": "code",
   "execution_count": 96,
   "metadata": {},
   "outputs": [],
   "source": [
    "state_group = dfmask[dfmask['CVD_group'] == 0]"
   ]
  },
  {
   "cell_type": "code",
   "execution_count": 100,
   "metadata": {},
   "outputs": [
    {
     "name": "stdout",
     "output_type": "stream",
     "text": [
      "7663\n",
      "    month i12_health_1  endtime  state  qweek   ct  i2_health  i7a_health  \\\n",
      "0       4       Always      715    715    715  715        715         715   \n",
      "5       5       Always      842    842    842  842        842         842   \n",
      "10      6       Always      462    462    462  462        462         462   \n",
      "15      7       Always      629    629    629  629        629         629   \n",
      "20      8       Always      693    693    693  693        693         693   \n",
      "25      9       Always      605    605    605  605        605         605   \n",
      "\n",
      "     m2   m3  ...  Population_x  CVD_group_x  State_y  Code_y  Population_y  \\\n",
      "0   715  715  ...           715          715      715     715           715   \n",
      "5   842  842  ...           842          842      842     842           842   \n",
      "10  462  462  ...           462          462      462     462           462   \n",
      "15  629  629  ...           629          629      629     629           629   \n",
      "20  693  693  ...           693          693      693     693           693   \n",
      "25  605  605  ...           605          605      605     605           605   \n",
      "\n",
      "    CVD_group_y  State  Code  Population  CVD_group  \n",
      "0           715    715   715         715        715  \n",
      "5           842    842   842         842        842  \n",
      "10          462    462   462         462        462  \n",
      "15          629    629   629         629        629  \n",
      "20          693    693   693         693        693  \n",
      "25          605    605   605         605        605  \n",
      "\n",
      "[6 rows x 26 columns]\n",
      "    month i12_health_1  endtime  state  qweek   ct  i2_health  i7a_health  \\\n",
      "1       4   Frequently      279    279    279  279        279         279   \n",
      "6       5   Frequently      288    288    288  288        288         288   \n",
      "11      6   Frequently      141    141    141  141        141         141   \n",
      "16      7   Frequently      108    108    108  108        108         108   \n",
      "21      8   Frequently      134    134    134  134        134         134   \n",
      "26      9   Frequently       85     85     85   85         85          85   \n",
      "\n",
      "     m2   m3  ...  Population_x  CVD_group_x  State_y  Code_y  Population_y  \\\n",
      "1   279  279  ...           279          279      279     279           279   \n",
      "6   288  288  ...           288          288      288     288           288   \n",
      "11  141  141  ...           141          141      141     141           141   \n",
      "16  108  108  ...           108          108      108     108           108   \n",
      "21  134  134  ...           134          134      134     134           134   \n",
      "26   85   85  ...            85           85       85      85            85   \n",
      "\n",
      "    CVD_group_y  State  Code  Population  CVD_group  \n",
      "1           279    279   279         279        279  \n",
      "6           288    288   288         288        288  \n",
      "11          141    141   141         141        141  \n",
      "16          108    108   108         108        108  \n",
      "21          134    134   134         134        134  \n",
      "26           85     85    85          85         85  \n",
      "\n",
      "[6 rows x 26 columns]\n",
      "    month i12_health_1  endtime  state  qweek   ct  i2_health  i7a_health  \\\n",
      "2       4   Not at all      961    961    961  961        961         961   \n",
      "7       5   Not at all      247    247    247  247        247         247   \n",
      "12      6   Not at all      131    131    131  131        131         131   \n",
      "17      7   Not at all       99     99     99   99         99          99   \n",
      "22      8   Not at all       77     77     77   77         77          77   \n",
      "27      9   Not at all       75     75     75   75         75          75   \n",
      "\n",
      "     m2   m3  ...  Population_x  CVD_group_x  State_y  Code_y  Population_y  \\\n",
      "2   961  961  ...           961          961      961     961           961   \n",
      "7   247  247  ...           247          247      247     247           247   \n",
      "12  131  131  ...           131          131      131     131           131   \n",
      "17   99   99  ...            99           99       99      99            99   \n",
      "22   77   77  ...            77           77       77      77            77   \n",
      "27   75   75  ...            75           75       75      75            75   \n",
      "\n",
      "    CVD_group_y  State  Code  Population  CVD_group  \n",
      "2           961    961   961         961        961  \n",
      "7           247    247   247         247        247  \n",
      "12          131    131   131         131        131  \n",
      "17           99     99    99          99         99  \n",
      "22           77     77    77          77         77  \n",
      "27           75     75    75          75         75  \n",
      "\n",
      "[6 rows x 26 columns]\n",
      "    month i12_health_1  endtime  state  qweek   ct  i2_health  i7a_health  \\\n",
      "3       4       Rarely      180    180    180  180        180         180   \n",
      "8       5       Rarely      106    106    106  106        106         106   \n",
      "13      6       Rarely       50     50     50   50         50          50   \n",
      "18      7       Rarely       51     51     51   51         51          51   \n",
      "23      8       Rarely       26     26     26   26         26          26   \n",
      "28      9       Rarely       35     35     35   35         35          35   \n",
      "\n",
      "     m2   m3  ...  Population_x  CVD_group_x  State_y  Code_y  Population_y  \\\n",
      "3   180  180  ...           180          180      180     180           180   \n",
      "8   106  106  ...           106          106      106     106           106   \n",
      "13   50   50  ...            50           50       50      50            50   \n",
      "18   51   51  ...            51           51       51      51            51   \n",
      "23   26   26  ...            26           26       26      26            26   \n",
      "28   35   35  ...            35           35       35      35            35   \n",
      "\n",
      "    CVD_group_y  State  Code  Population  CVD_group  \n",
      "3           180    180   180         180        180  \n",
      "8           106    106   106         106        106  \n",
      "13           50     50    50          50         50  \n",
      "18           51     51    51          51         51  \n",
      "23           26     26    26          26         26  \n",
      "28           35     35    35          35         35  \n",
      "\n",
      "[6 rows x 26 columns]\n",
      "    month i12_health_1  endtime  state  qweek   ct  i2_health  i7a_health  \\\n",
      "4       4    Sometimes      224    224    224  224        224         224   \n",
      "9       5    Sometimes      156    156    156  156        156         156   \n",
      "14      6    Sometimes       85     85     85   85         85          85   \n",
      "19      7    Sometimes       76     76     76   76         76          76   \n",
      "24      8    Sometimes       57     57     57   57         57          57   \n",
      "29      9    Sometimes       46     46     46   46         46          46   \n",
      "\n",
      "     m2   m3  ...  Population_x  CVD_group_x  State_y  Code_y  Population_y  \\\n",
      "4   224  224  ...           224          224      224     224           224   \n",
      "9   156  156  ...           156          156      156     156           156   \n",
      "14   85   85  ...            85           85       85      85            85   \n",
      "19   76   76  ...            76           76       76      76            76   \n",
      "24   57   57  ...            57           57       57      57            57   \n",
      "29   46   46  ...            46           46       46      46            46   \n",
      "\n",
      "    CVD_group_y  State  Code  Population  CVD_group  \n",
      "4           224    224   224         224        224  \n",
      "9           156    156   156         156        156  \n",
      "14           85     85    85          85         85  \n",
      "19           76     76    76          76         76  \n",
      "24           57     57    57          57         57  \n",
      "29           46     46    46          46         46  \n",
      "\n",
      "[6 rows x 26 columns]\n"
     ]
    },
    {
     "data": {
      "image/png": "[encoded data removed]",
      "text/plain": [
       "<Figure size 1080x360 with 1 Axes>"
      ]
     },
     "metadata": {
      "needs_background": "light"
     },
     "output_type": "display_data"
    }
   ],
   "source": [
    "i12_group_month = state_group.groupby(['month','i12_health_1']).count().rename(columns={'i1_health':'ct'}).reset_index().sort_values('month')\n",
    "\n",
    "fig, ax = plt.subplots(figsize = (15,5))\n",
    "# colors = ['#00BFFF', '#C1FFC1','#FF9999', '#CAE1FF', '#FFDEAD']\n",
    "colors = ['tab:blue', 'tab:gray', 'tab:olive', 'tab:cyan', 'tab:pink']\n",
    "ttl_obs = i12_group_month['ct'].sum()\n",
    "print(ttl_obs)\n",
    "i = 0\n",
    "for key, data in i12_group_month.groupby('i12_health_1'):\n",
    "    print(data)\n",
    "    data.plot.bar(x='month', y='ct', ax=ax, label=key,color = colors[i], stacked=False)\n",
    "    i += 1"
   ]
  },
  {
   "cell_type": "code",
   "execution_count": null,
   "metadata": {},
   "outputs": [],
   "source": []
  },
  {
   "cell_type": "code",
   "execution_count": null,
   "metadata": {},
   "outputs": [],
   "source": []
  }
 ],
 "metadata": {
  "kernelspec": {
   "display_name": "Python 3",
   "language": "python",
   "name": "python3"
  },
  "language_info": {
   "codemirror_mode": {
    "name": "ipython",
    "version": 3
   },
   "file_extension": ".py",
   "mimetype": "text/x-python",
   "name": "python",
   "nbconvert_exporter": "python",
   "pygments_lexer": "ipython3",
   "version": "3.7.7"
  }
 },
 "nbformat": 4,
 "nbformat_minor": 4
}
